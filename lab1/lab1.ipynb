{
 "cells": [
  {
   "cell_type": "code",
   "execution_count": 17,
   "id": "2b1970e1-d022-40fc-aafe-40417998b758",
   "metadata": {
    "tags": []
   },
   "outputs": [],
   "source": [
    "import pandas as pd"
   ]
  },
  {
   "cell_type": "code",
   "execution_count": 18,
   "id": "f6ef0590-4e63-476c-ae7b-97b495d14b13",
   "metadata": {
    "tags": []
   },
   "outputs": [],
   "source": [
    "a = [43, 54, 3, 654, 4, 65]"
   ]
  },
  {
   "cell_type": "code",
   "execution_count": 19,
   "id": "888c77e4-60b9-48c7-8dfa-8c2b3616254d",
   "metadata": {
    "tags": []
   },
   "outputs": [],
   "source": [
    "data = pd.Series(a)"
   ]
  },
  {
   "cell_type": "code",
   "execution_count": 20,
   "id": "9fe432a3-88c3-480d-9774-a03b9710be83",
   "metadata": {
    "tags": []
   },
   "outputs": [
    {
     "data": {
      "text/plain": [
       "0     43\n",
       "1     54\n",
       "2      3\n",
       "3    654\n",
       "4      4\n",
       "5     65\n",
       "dtype: int64"
      ]
     },
     "execution_count": 20,
     "metadata": {},
     "output_type": "execute_result"
    }
   ],
   "source": [
    "data"
   ]
  },
  {
   "cell_type": "code",
   "execution_count": 21,
   "id": "a0b80087-5bb1-4ea5-8621-d64f86f57b34",
   "metadata": {
    "tags": []
   },
   "outputs": [
    {
     "data": {
      "text/plain": [
       "0     45\n",
       "1     56\n",
       "2      5\n",
       "3    656\n",
       "4      6\n",
       "5     67\n",
       "dtype: int64"
      ]
     },
     "execution_count": 21,
     "metadata": {},
     "output_type": "execute_result"
    }
   ],
   "source": [
    "data+2"
   ]
  },
  {
   "cell_type": "code",
   "execution_count": 22,
   "id": "00ca7396-3a5b-4b62-a305-fdb8d518c895",
   "metadata": {
    "tags": []
   },
   "outputs": [
    {
     "data": {
      "text/plain": [
       "0      86\n",
       "1     108\n",
       "2       6\n",
       "3    1308\n",
       "4       8\n",
       "5     130\n",
       "dtype: int64"
      ]
     },
     "execution_count": 22,
     "metadata": {},
     "output_type": "execute_result"
    }
   ],
   "source": [
    "data*2"
   ]
  },
  {
   "cell_type": "code",
   "execution_count": 23,
   "id": "c30a7aed-cc6d-4933-94ba-4d5c8063a181",
   "metadata": {
    "tags": []
   },
   "outputs": [
    {
     "data": {
      "text/plain": [
       "0     21.5\n",
       "1     27.0\n",
       "2      1.5\n",
       "3    327.0\n",
       "4      2.0\n",
       "5     32.5\n",
       "dtype: float64"
      ]
     },
     "execution_count": 23,
     "metadata": {},
     "output_type": "execute_result"
    }
   ],
   "source": [
    "data/2"
   ]
  },
  {
   "cell_type": "code",
   "execution_count": 24,
   "id": "8b8ad3ca-9695-4097-83e4-c480cf067b91",
   "metadata": {
    "tags": []
   },
   "outputs": [
    {
     "data": {
      "text/plain": [
       "0     21\n",
       "1     27\n",
       "2      1\n",
       "3    327\n",
       "4      2\n",
       "5     32\n",
       "dtype: int64"
      ]
     },
     "execution_count": 24,
     "metadata": {},
     "output_type": "execute_result"
    }
   ],
   "source": [
    "data//2"
   ]
  },
  {
   "cell_type": "code",
   "execution_count": 25,
   "id": "322d749c-74b9-47ca-8918-44a662877b51",
   "metadata": {
    "tags": []
   },
   "outputs": [
    {
     "data": {
      "text/plain": [
       "0    3\n",
       "1    2\n",
       "2    3\n",
       "3    2\n",
       "4    0\n",
       "5    1\n",
       "dtype: int64"
      ]
     },
     "execution_count": 25,
     "metadata": {},
     "output_type": "execute_result"
    }
   ],
   "source": [
    "data%4"
   ]
  },
  {
   "cell_type": "code",
   "execution_count": 26,
   "id": "11a16788-c1c7-4cbf-95ad-9e7dc920e64d",
   "metadata": {
    "tags": []
   },
   "outputs": [
    {
     "data": {
      "text/plain": [
       "0    False\n",
       "1     True\n",
       "2    False\n",
       "3     True\n",
       "4    False\n",
       "5     True\n",
       "dtype: bool"
      ]
     },
     "execution_count": 26,
     "metadata": {},
     "output_type": "execute_result"
    }
   ],
   "source": [
    "data > 45"
   ]
  },
  {
   "cell_type": "code",
   "execution_count": 27,
   "id": "543016a8-aca4-46e7-8802-12278c06c3b8",
   "metadata": {
    "tags": []
   },
   "outputs": [
    {
     "data": {
      "text/plain": [
       "654"
      ]
     },
     "execution_count": 27,
     "metadata": {},
     "output_type": "execute_result"
    }
   ],
   "source": [
    "max(data)"
   ]
  },
  {
   "cell_type": "code",
   "execution_count": 28,
   "id": "94708804-945c-47cb-b461-206f8f3b8b74",
   "metadata": {
    "tags": []
   },
   "outputs": [
    {
     "data": {
      "text/plain": [
       "[3, 4, 43, 54, 65, 654]"
      ]
     },
     "execution_count": 28,
     "metadata": {},
     "output_type": "execute_result"
    }
   ],
   "source": [
    "sorted(data)"
   ]
  },
  {
   "cell_type": "code",
   "execution_count": 29,
   "id": "78aa7d9e-f4b3-4cda-84c4-eaf38f6ba189",
   "metadata": {
    "tags": []
   },
   "outputs": [
    {
     "data": {
      "text/plain": [
       "(43, 54, 3, 654, 4, 65)"
      ]
     },
     "execution_count": 29,
     "metadata": {},
     "output_type": "execute_result"
    }
   ],
   "source": [
    "tuple(data)"
   ]
  },
  {
   "cell_type": "code",
   "execution_count": 30,
   "id": "7b801213-06ec-4941-8c0e-47a3cb9c6920",
   "metadata": {
    "tags": []
   },
   "outputs": [
    {
     "data": {
      "text/plain": [
       "{3, 4, 43, 54, 65, 654}"
      ]
     },
     "execution_count": 30,
     "metadata": {},
     "output_type": "execute_result"
    }
   ],
   "source": [
    "set(data)"
   ]
  },
  {
   "cell_type": "code",
   "execution_count": 31,
   "id": "bb926b25-1f2c-467b-bed5-d5c9a7de4060",
   "metadata": {
    "tags": []
   },
   "outputs": [],
   "source": [
    "b = ['hello', 'world', 'hi']"
   ]
  },
  {
   "cell_type": "code",
   "execution_count": 32,
   "id": "17375fca-f59d-40be-8218-4d5a2156b694",
   "metadata": {
    "tags": []
   },
   "outputs": [],
   "source": [
    "s = pd.Series(b)"
   ]
  },
  {
   "cell_type": "code",
   "execution_count": 33,
   "id": "c69c02a9-1518-449c-945e-70a45953693f",
   "metadata": {
    "tags": []
   },
   "outputs": [
    {
     "data": {
      "text/plain": [
       "0    hello\n",
       "1    world\n",
       "2       hi\n",
       "dtype: object"
      ]
     },
     "execution_count": 33,
     "metadata": {},
     "output_type": "execute_result"
    }
   ],
   "source": [
    "s"
   ]
  },
  {
   "cell_type": "code",
   "execution_count": 34,
   "id": "f86aa3b5-64aa-44a7-a599-a3f99afcf905",
   "metadata": {
    "tags": []
   },
   "outputs": [
    {
     "data": {
      "text/plain": [
       "0    hellohi\n",
       "1    worldhi\n",
       "2       hihi\n",
       "dtype: object"
      ]
     },
     "execution_count": 34,
     "metadata": {},
     "output_type": "execute_result"
    }
   ],
   "source": [
    "s + 'hi'"
   ]
  },
  {
   "cell_type": "code",
   "execution_count": null,
   "id": "98d25b47-2543-4202-8172-3f8a1199e1a6",
   "metadata": {},
   "outputs": [],
   "source": []
  }
 ],
 "metadata": {
  "kernelspec": {
   "display_name": "Python 3 (ipykernel)",
   "language": "python",
   "name": "python3"
  },
  "language_info": {
   "codemirror_mode": {
    "name": "ipython",
    "version": 3
   },
   "file_extension": ".py",
   "mimetype": "text/x-python",
   "name": "python",
   "nbconvert_exporter": "python",
   "pygments_lexer": "ipython3",
   "version": "3.11.2"
  }
 },
 "nbformat": 4,
 "nbformat_minor": 5
}
